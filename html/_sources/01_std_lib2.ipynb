{
 "cells": [
  {
   "cell_type": "markdown",
   "metadata": {},
   "source": [
    "# [Python标准库](https://docs.python.org/3/library/#the-python-standard-library)的优点"
   ]
  },
  {
   "cell_type": "markdown",
   "metadata": {},
   "source": [
    "## [`json`](https://docs.python.org/3/library/json.html#module-json) 用于编码和解码 JSON\n",
    "因为现在网络上充斥着JSON，xml的好日子已经一去不复返了。"
   ]
  },
  {
   "cell_type": "code",
   "execution_count": null,
   "metadata": {},
   "outputs": [],
   "source": [
    "data = {\"b\": True, \"a\": 1, \"nested\": {\"foo\": \"bar\"}, \"c\": None, \"some_list\": [1, 2, 3]}"
   ]
  },
  {
   "cell_type": "markdown",
   "metadata": {},
   "source": [
    "### 编码"
   ]
  },
  {
   "cell_type": "code",
   "execution_count": null,
   "metadata": {},
   "outputs": [],
   "source": [
    "import json\n",
    "\n",
    "json_data = json.dumps(data)\n",
    "print(f\"type: {type(json_data)} data: {json_data}\")"
   ]
  },
  {
   "cell_type": "markdown",
   "metadata": {},
   "source": [
    "### 解码"
   ]
  },
  {
   "cell_type": "code",
   "execution_count": null,
   "metadata": {},
   "outputs": [],
   "source": [
    "decoded = json.loads(json_data)\n",
    "print(f\"type: {type(decoded)} data: {decoded}\")"
   ]
  },
  {
   "cell_type": "markdown",
   "metadata": {},
   "source": [
    "## [`unittest.mock`](https://docs.python.org/3/library/unittest.mock.html#module-unittest.mock)模块\n",
    "尽管`pytest`是首选的测试框架，但`unittest.mock`模块提供了一些在pytest测试用例中也很有用的东西。模拟和修补通常用于“伪造”被测软件逻辑/状态的某些部分。例如，常见的用例是修补与第三方交互的代码部分（例如一些web服务）。"
   ]
  },
  {
   "cell_type": "markdown",
   "metadata": {},
   "source": [
    "### [`MagicMock`](https://docs.python.org/3/library/unittest.mock.html#unittest.mock.MagicMock)\n",
    "\n",
    "一般来说，[Mocks](https://en.wikipedia.org/wiki/Mock_object)是以受控方式替换现实世界对象的功能/状态的模拟对象。因此，它们在模拟被测实现特定部分的某些行为的测试中特别有用。\n",
    "\n",
    "Python标准库中还有一个[`Mock`](https://docs.python.org/3/library/unittest.mock.html#unittest.mock.Mock)类，但您通常希望使用`Mock`的子类[`MagicMock`](https://docs.python.org/3/library/unittest.mock.html#unittest.mock.MagicMock)。`MagicMock`为大多数魔术方法提供了默认实现(例如`__setitem__()`和`__getitem__()`)\n",
    "\n",
    "一个潜在的用例可能是这样的："
   ]
  },
  {
   "cell_type": "code",
   "execution_count": null,
   "metadata": {},
   "outputs": [],
   "source": [
    "import random\n",
    "\n",
    "\n",
    "class Client:\n",
    "    def __init__(self, url, username, password):\n",
    "        self.url = url\n",
    "        self.creds = (username, password)\n",
    "\n",
    "    def fetch_some_data(self):\n",
    "        print(\n",
    "            \"例如，在这里，我们可以从第三方API获取数据并返回数据。\"\n",
    "        )\n",
    "        print(\"Now we will just return some random number between 1-100.\")\n",
    "        return random.randint(1, 100)\n",
    "\n",
    "\n",
    "class MyApplication:\n",
    "    def __init__(self):\n",
    "        self.client = Client(\n",
    "            url=\"https://somewhere/api\", username=\"John Doe\", password=\"secret123?\"\n",
    "        )\n",
    "\n",
    "    def do_something_fancy(self):\n",
    "        data = self.client.fetch_some_data()\n",
    "        return data ** (1 / 2)  # 举个例子，让我们返回一个平方根\n",
    "\n",
    "\n",
    "####################\n",
    "# 在测试模块中：\n",
    "\n",
    "from unittest.mock import MagicMock\n",
    "\n",
    "# 在测试用例中：\n",
    "app = MyApplication()\n",
    "app.client = MagicMock()  # 模拟客户\n",
    "app.client.fetch_some_data.return_value = 4  # 设置受控行为\n",
    "result = app.do_something_fancy()\n",
    "assert result == 2\n",
    "print(\"All good, woop woop!\")"
   ]
  },
  {
   "cell_type": "markdown",
   "metadata": {},
   "source": [
    "### [`patch`](https://docs.python.org/3/library/unittest.mock.html#unittest.mock.patch)（补丁）\n",
    "[`patch`](https://docs.python.org/3/library/unittest.mock.html#unittest.mock.patch)的用例与`MacigMock`非常相似。最大的区别是`patch`被用作上下文管理器或装饰器。 要修补的对象作为`补丁`的参数给出。此外，您可以提供额外的对象作为第二个参数(`new`)，它将替换原始参数。如果省略了`new`，默认情况下将使用`MagicMock`。\n",
    "\n",
    "让我们看看上面的例子在使用`patch`的情况下会是什么样子。"
   ]
  },
  {
   "cell_type": "code",
   "execution_count": null,
   "metadata": {},
   "outputs": [],
   "source": [
    "# 在测试模块中：\n",
    "\n",
    "from unittest.mock import patch\n",
    "\n",
    "# 在测试用例中：\n",
    "app = MyApplication()\n",
    "with patch(\"__main__.app.client\") as patched_client:  # 修补客户端\n",
    "    patched_client.fetch_some_data.return_value = 4  # 设置受控行为\n",
    "    result = app.do_something_fancy()\n",
    "    assert result == 2\n",
    "    print(\"All good, woop woop!\")"
   ]
  },
  {
   "cell_type": "markdown",
   "metadata": {},
   "source": [
    "相同，但使用函数装饰器而不是上下文管理器。请注意，这里我们正在修补整个`Client`类，而不仅仅是`app`的客户端实例变量。"
   ]
  },
  {
   "cell_type": "code",
   "execution_count": null,
   "metadata": {},
   "outputs": [],
   "source": [
    "from unittest.mock import patch\n",
    "\n",
    "\n",
    "@patch(\"__main__.Client\")  # 修补客户端\n",
    "def test_do_something_fancy(client_cls):\n",
    "    client_cls().fetch_some_data.return_value = 4  # 设置受控行为\n",
    "    app = MyApplication()\n",
    "    result = app.do_something_fancy()\n",
    "    assert result == 2\n",
    "    print(\"All good, woop woop!\")\n",
    "\n",
    "\n",
    "test_do_something_fancy()  # 这只是为了举例"
   ]
  },
  {
   "cell_type": "markdown",
   "metadata": {},
   "source": [
    "## [`collections`](https://docs.python.org/3/library/collections.html#module-collections)模块"
   ]
  },
  {
   "cell_type": "markdown",
   "metadata": {},
   "source": [
    "### [`namedtuple`](https://docs.python.org/3/library/collections.html#collections.namedtuple)函数\n",
    "创建更易读和自文档化代码的好帮手。\n",
    "\n",
    "`namedtuple`是一个函数，它返回一个元组，其字段有名称，元组本身也有名称（就像类及其实例变量一样）。潜在的用例包括存储不可变的数据。如果你能使用Python 3.7或更高版本，你可能也想看看[`数据类`](https://docs.python.org/3/library/dataclasses.html#module-dataclasses)。"
   ]
  },
  {
   "cell_type": "code",
   "execution_count": null,
   "metadata": {},
   "outputs": [],
   "source": [
    "from collections import namedtuple\n",
    "\n",
    "Person = namedtuple(\"Person\", [\"name\", \"age\", \"is_gangster\"])\n",
    "\n",
    "# 实例创建类似于类\n",
    "john = Person(\"John Doe\", 83, True)\n",
    "lisa = Person(\"Lis Doe\", age=77, is_gangster=False)\n",
    "\n",
    "print(john, lisa)\n",
    "print(f\"Is John a gangster: {john.is_gangster}\")\n",
    "\n",
    "# 元组是不可变的，因此你不能这样做\n",
    "# john.is_gangster = False"
   ]
  },
  {
   "cell_type": "markdown",
   "metadata": {},
   "source": [
    "### [`Counter`](https://docs.python.org/3/library/collections.html#collections.Counter)函数\n",
    "用于统计集合中元素的出现次数。"
   ]
  },
  {
   "cell_type": "code",
   "execution_count": null,
   "metadata": {},
   "outputs": [],
   "source": [
    "from collections import Counter\n",
    "\n",
    "data = [1, 2, 3, 1, 2, 4, 5, 6, 2]\n",
    "\n",
    "counter = Counter(data)\n",
    "print(f\"type: {type(counter)}, counter: {counter}\")\n",
    "\n",
    "print(f\"count of twos: {counter[2]}\")\n",
    "print(f\"count of tens: {counter[10]}\")  # 零表示不存在\n",
    "\n",
    "print(f\"counter is a dict: {isinstance(counter, dict)}\")"
   ]
  },
  {
   "cell_type": "markdown",
   "metadata": {},
   "source": [
    "### [`defaultdict`](https://docs.python.org/3/library/collections.html#collections.defaultdict)函数\n",
    "用于填充字典的更简洁的代码。\n",
    "\n",
    "让我们先看看如何使用一个普通的`dict`。"
   ]
  },
  {
   "cell_type": "code",
   "execution_count": null,
   "metadata": {},
   "outputs": [],
   "source": [
    "data = (1, 2, 3, 4, 3, 2, 5, 6, 7)\n",
    "\n",
    "my_dict = {}\n",
    "for val in data:\n",
    "    if val % 2:\n",
    "        if not \"odd\" in my_dict:\n",
    "            my_dict[\"odd\"] = []\n",
    "        my_dict[\"odd\"].append(val)\n",
    "    else:\n",
    "        if not \"even\" in my_dict:\n",
    "            my_dict[\"even\"] = []\n",
    "        my_dict[\"even\"].append(val)\n",
    "\n",
    "print(my_dict)"
   ]
  },
  {
   "cell_type": "markdown",
   "metadata": {},
   "source": [
    "使用`defaultdict`："
   ]
  },
  {
   "cell_type": "code",
   "execution_count": null,
   "metadata": {},
   "outputs": [],
   "source": [
    "from collections import defaultdict\n",
    "\n",
    "my_dict = defaultdict(list)\n",
    "for val in data:\n",
    "    if val % 2:\n",
    "        my_dict[\"odd\"].append(val)\n",
    "    else:\n",
    "        my_dict[\"even\"].append(val)\n",
    "print(my_dict)"
   ]
  },
  {
   "cell_type": "markdown",
   "metadata": {},
   "source": [
    "在上面的示例中，`defaultdict` 确保在添加新键时，新`list`会自动初始化为值。\n",
    "\n",
    "这是另一个默认使用`int`的例子。"
   ]
  },
  {
   "cell_type": "code",
   "execution_count": null,
   "metadata": {},
   "outputs": [],
   "source": [
    "my_dict = defaultdict(int)\n",
    "for val in data:\n",
    "    if val % 2:\n",
    "        my_dict[\"odd_count\"] += 1\n",
    "    else:\n",
    "        my_dict[\"even_count\"] += 1\n",
    "print(my_dict)"
   ]
  }
 ],
 "metadata": {
  "kernelspec": {
   "display_name": "Python 3 (ipykernel)",
   "language": "python",
   "name": "python3"
  },
  "language_info": {
   "codemirror_mode": {
    "name": "ipython",
    "version": 3
   },
   "file_extension": ".py",
   "mimetype": "text/x-python",
   "name": "python",
   "nbconvert_exporter": "python",
   "pygments_lexer": "ipython3",
   "version": "3.11.4"
  }
 },
 "nbformat": 4,
 "nbformat_minor": 4
}
