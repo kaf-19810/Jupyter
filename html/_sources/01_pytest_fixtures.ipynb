{
 "cells": [
  {
   "cell_type": "markdown",
   "metadata": {},
   "source": [
    "# `pytest`测试框架的fixture高效使用"
   ]
  },
  {
   "cell_type": "markdown",
   "metadata": {},
   "source": [
    "在笔记本电脑中使用`pytest`所需的样板。"
   ]
  },
  {
   "cell_type": "code",
   "execution_count": null,
   "metadata": {},
   "outputs": [],
   "source": [
    "# 让我们确保安装了pytest和ipytest包\n",
    "# 在Jupyter notebooks中运行pytest需要ipytest模块\n",
    "import sys\n",
    "\n",
    "!{sys.executable} -m pip install pytest\n",
    "!{sys.executable} -m pip install ipytest\n",
    "\n",
    "# 在Jupyter notebooks中运行pytest需要这些\n",
    "import ipytest\n",
    "\n",
    "ipytest.autoconfig()\n",
    "\n",
    "import pytest"
   ]
  },
  {
   "cell_type": "markdown",
   "metadata": {},
   "source": [
    "## fixtures参数化\n",
    "与使用`pytest.mark.parameterize`参数化测试函数类似，您也可以参数化fixtures:"
   ]
  },
  {
   "cell_type": "code",
   "execution_count": null,
   "metadata": {},
   "outputs": [],
   "source": [
    "PATHS = [\"/foo/bar.txt\", \"/bar/baz.txt\"]\n",
    "\n",
    "\n",
    "@pytest.fixture(params=PATHS)\n",
    "def executable(request):\n",
    "    return request.param"
   ]
  },
  {
   "cell_type": "code",
   "execution_count": null,
   "metadata": {},
   "outputs": [],
   "source": [
    "%%ipytest -s\n",
    "\n",
    "def test_something_with_executable(executable):\n",
    "    print(executable)"
   ]
  },
  {
   "cell_type": "markdown",
   "metadata": {},
   "source": [
    "## [`pytest.mark.usefixtures`](https://docs.pytest.org/en/latest/fixture.html#usefixtures)\n",
    "[`pytest.mark.usefixtures`](https://docs.pytest.org/en/latest/fixture.html#usefixtures) 非常有用，特别是当您想在一组测试中使用某个fixture，但不需要fixture的返回值时。"
   ]
  },
  {
   "cell_type": "code",
   "execution_count": null,
   "metadata": {},
   "outputs": [],
   "source": [
    "%%ipytest -s\n",
    "\n",
    "\n",
    "@pytest.fixture\n",
    "def my_fixture():\n",
    "    print(\"\\nmy_fixture is used\")\n",
    "  \n",
    "\n",
    "@pytest.fixture\n",
    "def other_fixture():\n",
    "    return \"FOO\"\n",
    "\n",
    "\n",
    "@pytest.mark.usefixtures('my_fixture')\n",
    "class TestMyStuff:\n",
    "    def test_somestuff(self):\n",
    "        pass\n",
    "    \n",
    "    def test_some_other_stuff(self, other_fixture):\n",
    "        print(f'here we use also other_fixture which returns: {other_fixture}')"
   ]
  },
  {
   "cell_type": "markdown",
   "metadata": {},
   "source": [
    "## `pytest` [内置 fixtures](https://docs.pytest.org/en/latest/builtin.html#pytest-api-and-builtin-fixtures)\n",
    "这里有几个有用的内置fixtures的示例，您可以通过运行`pytest --fixtures`来查看所有可用的fixtures。"
   ]
  },
  {
   "cell_type": "markdown",
   "metadata": {},
   "source": [
    "### [`monkeypatch（猴子补丁）`](https://docs.pytest.org/en/latest/reference.html#_pytest.monkeypatch.MonkeyPatch)\n",
    "内置[`monkeypatch`](https://docs.pytest.org/en/latest/reference.html#_pytest.monkeypatch.MonkeyPatch) fixture允许您设置环境变量和设置/删除对象的属性。用例类似于使用patching/mocking进行补丁/模拟。 `unittest.mock.patch`/`unittest.mock.MagicMock` 是Python标准库的一部分。\n",
    "\n",
    "**Monkey匹配环境变量：**"
   ]
  },
  {
   "cell_type": "code",
   "execution_count": null,
   "metadata": {},
   "outputs": [],
   "source": [
    "import os\n",
    "\n",
    "\n",
    "def get_env_var_or_none(var_name):\n",
    "    return os.environ.get(var_name, None)"
   ]
  },
  {
   "cell_type": "code",
   "execution_count": null,
   "metadata": {},
   "outputs": [],
   "source": [
    "%%ipytest -s\n",
    "\n",
    "def test_get_env_var_or_none_with_valid_env_var(monkeypatch):\n",
    "    monkeypatch.setenv('MY_ENV_VAR', 'secret')\n",
    "    res = get_env_var_or_none('MY_ENV_VAR')\n",
    "    assert res == 'secret'\n",
    "    \n",
    "def test_get_env_var_or_none_with_missing_env_var():\n",
    "    res = get_env_var_or_none('NOT_EXISTING')\n",
    "    assert res is None"
   ]
  },
  {
   "cell_type": "markdown",
   "metadata": {},
   "source": [
    "**Monkeypatching 属性:**"
   ]
  },
  {
   "cell_type": "code",
   "execution_count": null,
   "metadata": {},
   "outputs": [],
   "source": [
    "class SomeClass:\n",
    "    some_value = \"some value\"\n",
    "\n",
    "    @staticmethod\n",
    "    def tell_the_truth():\n",
    "        print(\"This is the original truth\")"
   ]
  },
  {
   "cell_type": "code",
   "execution_count": null,
   "metadata": {},
   "outputs": [],
   "source": [
    "def fake_truth():\n",
    "    print(\"This is modified truth\")\n",
    "\n",
    "\n",
    "@pytest.fixture\n",
    "def fake_some_class(monkeypatch):\n",
    "    monkeypatch.setattr(\"__main__.SomeClass.some_value\", \"fake value\")\n",
    "    monkeypatch.setattr(\"__main__.SomeClass.tell_the_truth\", fake_truth)"
   ]
  },
  {
   "cell_type": "code",
   "execution_count": null,
   "metadata": {},
   "outputs": [],
   "source": [
    "%%ipytest -s\n",
    "\n",
    "def test_some_class(fake_some_class):\n",
    "    print(SomeClass.some_value)\n",
    "    SomeClass.tell_the_truth()"
   ]
  },
  {
   "cell_type": "markdown",
   "metadata": {},
   "source": [
    "### [`tmpdir`](https://docs.pytest.org/en/latest/tmpdir.html#the-tmpdir-fixture)\n",
    "[`tmpdir`](https://docs.pytest.org/en/latest/tmpdir.html#the-tmpdir-fixture) fixture 提供创建临时文件和目录的功能。"
   ]
  },
  {
   "cell_type": "code",
   "execution_count": null,
   "metadata": {},
   "outputs": [],
   "source": [
    "def word_count_of_txt_file(file_path):\n",
    "    with open(file_path) as f:\n",
    "        content = f.read()\n",
    "        return len(content.split())"
   ]
  },
  {
   "cell_type": "code",
   "execution_count": null,
   "metadata": {},
   "outputs": [],
   "source": [
    "%%ipytest -s\n",
    "\n",
    "def test_word_count(tmpdir):\n",
    "    test_file = tmpdir.join('test.txt')\n",
    "    test_file.write('This is example content of seven words')\n",
    "    res = word_count_of_txt_file(str(test_file)) # str返回路径\n",
    "    assert res == 7"
   ]
  },
  {
   "cell_type": "markdown",
   "metadata": {},
   "source": [
    "## Fixture 作用范围"
   ]
  },
  {
   "cell_type": "code",
   "execution_count": null,
   "metadata": {},
   "outputs": [],
   "source": [
    "@pytest.fixture(scope=\"function\")\n",
    "def func_fixture():\n",
    "    print(\"\\nfunc\")\n",
    "\n",
    "\n",
    "@pytest.fixture(scope=\"module\")\n",
    "def module_fixture():\n",
    "    print(\"\\nmodule\")\n",
    "\n",
    "\n",
    "@pytest.fixture(scope=\"session\")\n",
    "def session_fixture():\n",
    "    print(\"\\nsession\")"
   ]
  },
  {
   "cell_type": "code",
   "execution_count": null,
   "metadata": {},
   "outputs": [],
   "source": [
    "%%ipytest -s\n",
    "\n",
    "def test_something(func_fixture, module_fixture, session_fixture):\n",
    "    pass\n",
    "\n",
    "def test_something_else(func_fixture, module_fixture, session_fixture):\n",
    "    pass"
   ]
  },
  {
   "cell_type": "markdown",
   "metadata": {},
   "source": [
    "## 前置-后置行为"
   ]
  },
  {
   "cell_type": "code",
   "execution_count": null,
   "metadata": {},
   "outputs": [],
   "source": [
    "@pytest.fixture\n",
    "def some_fixture():\n",
    "    print(\"some_fixture is run now\")\n",
    "    yield \"some magical value\"\n",
    "    print(\"\\nthis will be run after test execution, you can do e.g. some clean up here\")"
   ]
  },
  {
   "cell_type": "code",
   "execution_count": null,
   "metadata": {},
   "outputs": [],
   "source": [
    "%%ipytest -s\n",
    "\n",
    "def test_something(some_fixture):\n",
    "    print('running test_something')\n",
    "    assert some_fixture == 'some magical value'\n",
    "    print('test ends here')"
   ]
  },
  {
   "cell_type": "markdown",
   "metadata": {},
   "source": [
    "## 自动使用 fixtures"
   ]
  },
  {
   "cell_type": "code",
   "execution_count": null,
   "metadata": {},
   "outputs": [],
   "source": [
    "@pytest.fixture(autouse=True)\n",
    "def my_fixture():\n",
    "    print(\"\\nusing my_fixture\")"
   ]
  },
  {
   "cell_type": "code",
   "execution_count": null,
   "metadata": {},
   "outputs": [],
   "source": [
    "%%ipytest -s\n",
    "\n",
    "def test_1():\n",
    "    pass\n",
    "    \n",
    "def test_2():\n",
    "    pass"
   ]
  }
 ],
 "metadata": {
  "kernelspec": {
   "display_name": "Python 3 (ipykernel)",
   "language": "python",
   "name": "python3"
  },
  "language_info": {
   "codemirror_mode": {
    "name": "ipython",
    "version": 3
   },
   "file_extension": ".py",
   "mimetype": "text/x-python",
   "name": "python",
   "nbconvert_exporter": "python",
   "pygments_lexer": "ipython3",
   "version": "3.12.4"
  }
 },
 "nbformat": 4,
 "nbformat_minor": 4
}
